{
 "cells": [
  {
   "cell_type": "code",
   "execution_count": 1,
   "id": "4b67833c-7e6c-4846-a2f4-aecb80f428f7",
   "metadata": {},
   "outputs": [],
   "source": [
    "from pyspark.sql import SparkSession, functions as F"
   ]
  },
  {
   "cell_type": "code",
   "execution_count": 30,
   "id": "300dd0a6-12b9-426b-88b0-b698c69efaa1",
   "metadata": {},
   "outputs": [],
   "source": [
    "import pandas as pd"
   ]
  },
  {
   "cell_type": "code",
   "execution_count": 31,
   "id": "d18eeb7b-419a-4487-9e2c-79696f7e62cf",
   "metadata": {},
   "outputs": [
    {
     "name": "stdout",
     "output_type": "stream",
     "text": [
      "Collecting boto3\n",
      "  Downloading boto3-1.38.23-py3-none-any.whl.metadata (6.6 kB)\n",
      "Collecting botocore<1.39.0,>=1.38.23 (from boto3)\n",
      "  Downloading botocore-1.38.23-py3-none-any.whl.metadata (5.7 kB)\n",
      "Collecting jmespath<2.0.0,>=0.7.1 (from boto3)\n",
      "  Downloading jmespath-1.0.1-py3-none-any.whl.metadata (7.6 kB)\n",
      "Collecting s3transfer<0.14.0,>=0.13.0 (from boto3)\n",
      "  Downloading s3transfer-0.13.0-py3-none-any.whl.metadata (1.7 kB)\n",
      "Requirement already satisfied: python-dateutil<3.0.0,>=2.1 in /usr/local/lib/python3.12/site-packages (from botocore<1.39.0,>=1.38.23->boto3) (2.9.0.post0)\n",
      "Requirement already satisfied: urllib3!=2.2.0,<3,>=1.25.4 in /usr/local/lib/python3.12/site-packages (from botocore<1.39.0,>=1.38.23->boto3) (2.2.3)\n",
      "Requirement already satisfied: six>=1.5 in /usr/local/lib/python3.12/site-packages (from python-dateutil<3.0.0,>=2.1->botocore<1.39.0,>=1.38.23->boto3) (1.16.0)\n",
      "Downloading boto3-1.38.23-py3-none-any.whl (139 kB)\n",
      "Downloading botocore-1.38.23-py3-none-any.whl (13.6 MB)\n",
      "\u001b[2K   \u001b[90m━━━━━━━━━━━━━━━━━━━━━━━━━━━━━━━━━━━━━━━━\u001b[0m \u001b[32m13.6/13.6 MB\u001b[0m \u001b[31m42.4 MB/s\u001b[0m eta \u001b[36m0:00:00\u001b[0m \u001b[36m0:00:01\u001b[0m\n",
      "\u001b[?25hDownloading jmespath-1.0.1-py3-none-any.whl (20 kB)\n",
      "Downloading s3transfer-0.13.0-py3-none-any.whl (85 kB)\n",
      "Installing collected packages: jmespath, botocore, s3transfer, boto3\n",
      "Successfully installed boto3-1.38.23 botocore-1.38.23 jmespath-1.0.1 s3transfer-0.13.0\n",
      "\u001b[33mWARNING: Running pip as the 'root' user can result in broken permissions and conflicting behaviour with the system package manager, possibly rendering your system unusable.It is recommended to use a virtual environment instead: https://pip.pypa.io/warnings/venv. Use the --root-user-action option if you know what you are doing and want to suppress this warning.\u001b[0m\u001b[33m\n",
      "\u001b[0m\n",
      "\u001b[1m[\u001b[0m\u001b[34;49mnotice\u001b[0m\u001b[1;39;49m]\u001b[0m\u001b[39;49m A new release of pip is available: \u001b[0m\u001b[31;49m24.2\u001b[0m\u001b[39;49m -> \u001b[0m\u001b[32;49m25.1.1\u001b[0m\n",
      "\u001b[1m[\u001b[0m\u001b[34;49mnotice\u001b[0m\u001b[1;39;49m]\u001b[0m\u001b[39;49m To update, run: \u001b[0m\u001b[32;49mpip install --upgrade pip\u001b[0m\n"
     ]
    }
   ],
   "source": [
    "! pip install boto3"
   ]
  },
  {
   "cell_type": "code",
   "execution_count": 3,
   "id": "47e2199a-26d8-43ff-979c-3b5939ade6d6",
   "metadata": {},
   "outputs": [
    {
     "name": "stderr",
     "output_type": "stream",
     "text": [
      "Setting default log level to \"WARN\".\n",
      "To adjust logging level use sc.setLogLevel(newLevel). For SparkR, use setLogLevel(newLevel).\n",
      "25/05/24 08:44:48 WARN NativeCodeLoader: Unable to load native-hadoop library for your platform... using builtin-java classes where applicable\n"
     ]
    }
   ],
   "source": [
    "spark = SparkSession.builder \\\n",
    ".appName(\"Explore NYC Taxi\") \\\n",
    ".master(\"local[2]\") \\\n",
    ".config(\"spark.driver.memory\", \"2G\" ) \\\n",
    ".getOrCreate()"
   ]
  },
  {
   "cell_type": "code",
   "execution_count": 4,
   "id": "73d398bd-63c2-44b6-9fc7-e630de804987",
   "metadata": {},
   "outputs": [
    {
     "name": "stdout",
     "output_type": "stream",
     "text": [
      "+---+\n",
      "| id|\n",
      "+---+\n",
      "|  0|\n",
      "|  1|\n",
      "|  2|\n",
      "|  3|\n",
      "|  4|\n",
      "|  5|\n",
      "|  6|\n",
      "|  7|\n",
      "|  8|\n",
      "|  9|\n",
      "| 10|\n",
      "| 11|\n",
      "| 12|\n",
      "| 13|\n",
      "| 14|\n",
      "| 15|\n",
      "| 16|\n",
      "| 17|\n",
      "| 18|\n",
      "| 19|\n",
      "+---+\n",
      "only showing top 20 rows\n",
      "\n"
     ]
    }
   ],
   "source": [
    "spark.range(100).show()"
   ]
  },
  {
   "cell_type": "code",
   "execution_count": 5,
   "id": "05b3224b-6ee1-489b-8ad8-34921c736073",
   "metadata": {},
   "outputs": [],
   "source": [
    "!mkdir datasets"
   ]
  },
  {
   "cell_type": "code",
   "execution_count": 6,
   "id": "045e5438-fdf0-4f83-aa99-33993cb05885",
   "metadata": {},
   "outputs": [
    {
     "name": "stdout",
     "output_type": "stream",
     "text": [
      "--2025-05-24 08:47:11--  https://github.com/erkansirin78/datasets/raw/refs/heads/master/yellow_tripdata_partitioned_by_day/year=2024/month=5/day=24/part-00114-5bd1507a-125d-4ec6-8794-3ed02e45a45d.c000.snappy.parquet\n",
      "Resolving github.com (github.com)... 140.82.121.3\n",
      "Connecting to github.com (github.com)|140.82.121.3|:443... connected.\n",
      "HTTP request sent, awaiting response... 302 Found\n",
      "Location: https://raw.githubusercontent.com/erkansirin78/datasets/refs/heads/master/yellow_tripdata_partitioned_by_day/year%3D2024/month%3D5/day%3D24/part-00114-5bd1507a-125d-4ec6-8794-3ed02e45a45d.c000.snappy.parquet [following]\n",
      "--2025-05-24 08:47:12--  https://raw.githubusercontent.com/erkansirin78/datasets/refs/heads/master/yellow_tripdata_partitioned_by_day/year%3D2024/month%3D5/day%3D24/part-00114-5bd1507a-125d-4ec6-8794-3ed02e45a45d.c000.snappy.parquet\n",
      "Resolving raw.githubusercontent.com (raw.githubusercontent.com)... 185.199.109.133, 185.199.108.133, 185.199.111.133, ...\n",
      "Connecting to raw.githubusercontent.com (raw.githubusercontent.com)|185.199.109.133|:443... connected.\n",
      "HTTP request sent, awaiting response... 200 OK\n",
      "Length: 2050995 (2.0M) [application/octet-stream]\n",
      "Saving to: ‘datasets/part-00114-5bd1507a-125d-4ec6-8794-3ed02e45a45d.c000.snappy.parquet/part-00114-5bd1507a-125d-4ec6-8794-3ed02e45a45d.c000.snappy.parquet’\n",
      "\n",
      "part-00114-5bd1507a 100%[===================>]   1.96M  --.-KB/s    in 0.09s   \n",
      "\n",
      "2025-05-24 08:47:12 (21.8 MB/s) - ‘datasets/part-00114-5bd1507a-125d-4ec6-8794-3ed02e45a45d.c000.snappy.parquet/part-00114-5bd1507a-125d-4ec6-8794-3ed02e45a45d.c000.snappy.parquet’ saved [2050995/2050995]\n",
      "\n"
     ]
    }
   ],
   "source": [
    "! wget -P datasets/part-00114-5bd1507a-125d-4ec6-8794-3ed02e45a45d.c000.snappy.parquet https://github.com/erkansirin78/datasets/raw/refs/heads/master/yellow_tripdata_partitioned_by_day/year=2024/month=5/day=24/part-00114-5bd1507a-125d-4ec6-8794-3ed02e45a45d.c000.snappy.parquet"
   ]
  },
  {
   "cell_type": "code",
   "execution_count": 7,
   "id": "77af7c5e-9eea-4a59-922b-564e5e0c66af",
   "metadata": {},
   "outputs": [
    {
     "name": "stdout",
     "output_type": "stream",
     "text": [
      "--2025-05-24 08:49:01--  https://github.com/erkansirin78/datasets/raw/refs/heads/master/yellow_tripdata_partitioned_by_day/year=2024/month=5/day=24/part-00115-5bd1507a-125d-4ec6-8794-3ed02e45a45d.c000.snappy.parquet\n",
      "Resolving github.com (github.com)... 140.82.121.4\n",
      "Connecting to github.com (github.com)|140.82.121.4|:443... connected.\n",
      "HTTP request sent, awaiting response... 302 Found\n",
      "Location: https://raw.githubusercontent.com/erkansirin78/datasets/refs/heads/master/yellow_tripdata_partitioned_by_day/year%3D2024/month%3D5/day%3D24/part-00115-5bd1507a-125d-4ec6-8794-3ed02e45a45d.c000.snappy.parquet [following]\n",
      "--2025-05-24 08:49:02--  https://raw.githubusercontent.com/erkansirin78/datasets/refs/heads/master/yellow_tripdata_partitioned_by_day/year%3D2024/month%3D5/day%3D24/part-00115-5bd1507a-125d-4ec6-8794-3ed02e45a45d.c000.snappy.parquet\n",
      "Resolving raw.githubusercontent.com (raw.githubusercontent.com)... 185.199.109.133, 185.199.108.133, 185.199.111.133, ...\n",
      "Connecting to raw.githubusercontent.com (raw.githubusercontent.com)|185.199.109.133|:443... connected.\n",
      "HTTP request sent, awaiting response... 200 OK\n",
      "Length: 273373 (267K) [application/octet-stream]\n",
      "Saving to: ‘datasets/part-00115-5bd1507a-125d-4ec6-8794-3ed02e45a45d.c000.snappy.parquet/part-00115-5bd1507a-125d-4ec6-8794-3ed02e45a45d.c000.snappy.parquet’\n",
      "\n",
      "part-00115-5bd1507a 100%[===================>] 266.97K  --.-KB/s    in 0.03s   \n",
      "\n",
      "2025-05-24 08:49:02 (7.49 MB/s) - ‘datasets/part-00115-5bd1507a-125d-4ec6-8794-3ed02e45a45d.c000.snappy.parquet/part-00115-5bd1507a-125d-4ec6-8794-3ed02e45a45d.c000.snappy.parquet’ saved [273373/273373]\n",
      "\n"
     ]
    }
   ],
   "source": [
    "! wget -P datasets/part-00115-5bd1507a-125d-4ec6-8794-3ed02e45a45d.c000.snappy.parquet https://github.com/erkansirin78/datasets/raw/refs/heads/master/yellow_tripdata_partitioned_by_day/year=2024/month=5/day=24/part-00115-5bd1507a-125d-4ec6-8794-3ed02e45a45d.c000.snappy.parquet"
   ]
  },
  {
   "cell_type": "code",
   "execution_count": 13,
   "id": "2eaae23c-e0e7-47af-bc4f-ba2e27405870",
   "metadata": {},
   "outputs": [],
   "source": [
    "df_00115 = spark.read.parquet(\"file:///datasets/part-00115-5bd1507a-125d-4ec6-8794-3ed02e45a45d.c000.snappy.parquet/part-00115-5bd1507a-125d-4ec6-8794-3ed02e45a45d.c000.snappy.parquet\")\n",
    "df_00114 = spark.read.parquet(\"file:///datasets/part-00114-5bd1507a-125d-4ec6-8794-3ed02e45a45d.c000.snappy.parquet/part-00114-5bd1507a-125d-4ec6-8794-3ed02e45a45d.c000.snappy.parquet\")"
   ]
  },
  {
   "cell_type": "code",
   "execution_count": 14,
   "id": "648afa89-eeb1-4a57-8104-772f203a114c",
   "metadata": {},
   "outputs": [
    {
     "data": {
      "text/html": [
       "<div>\n",
       "<style scoped>\n",
       "    .dataframe tbody tr th:only-of-type {\n",
       "        vertical-align: middle;\n",
       "    }\n",
       "\n",
       "    .dataframe tbody tr th {\n",
       "        vertical-align: top;\n",
       "    }\n",
       "\n",
       "    .dataframe thead th {\n",
       "        text-align: right;\n",
       "    }\n",
       "</style>\n",
       "<table border=\"1\" class=\"dataframe\">\n",
       "  <thead>\n",
       "    <tr style=\"text-align: right;\">\n",
       "      <th></th>\n",
       "      <th>VendorID</th>\n",
       "      <th>tpep_pickup_datetime</th>\n",
       "      <th>tpep_dropoff_datetime</th>\n",
       "      <th>passenger_count</th>\n",
       "      <th>trip_distance</th>\n",
       "      <th>RatecodeID</th>\n",
       "      <th>store_and_fwd_flag</th>\n",
       "      <th>PULocationID</th>\n",
       "      <th>DOLocationID</th>\n",
       "      <th>payment_type</th>\n",
       "      <th>fare_amount</th>\n",
       "      <th>extra</th>\n",
       "      <th>mta_tax</th>\n",
       "      <th>tip_amount</th>\n",
       "      <th>tolls_amount</th>\n",
       "      <th>improvement_surcharge</th>\n",
       "      <th>total_amount</th>\n",
       "      <th>congestion_surcharge</th>\n",
       "      <th>Airport_fee</th>\n",
       "    </tr>\n",
       "  </thead>\n",
       "  <tbody>\n",
       "    <tr>\n",
       "      <th>0</th>\n",
       "      <td>2</td>\n",
       "      <td>2024-05-23 20:55:00</td>\n",
       "      <td>2024-05-24 11:20:00</td>\n",
       "      <td>NaN</td>\n",
       "      <td>34.48</td>\n",
       "      <td>NaN</td>\n",
       "      <td>None</td>\n",
       "      <td>97</td>\n",
       "      <td>210</td>\n",
       "      <td>0</td>\n",
       "      <td>11.98</td>\n",
       "      <td>0.0</td>\n",
       "      <td>0.5</td>\n",
       "      <td>2.7</td>\n",
       "      <td>0.0</td>\n",
       "      <td>1.0</td>\n",
       "      <td>16.18</td>\n",
       "      <td>NaN</td>\n",
       "      <td>NaN</td>\n",
       "    </tr>\n",
       "    <tr>\n",
       "      <th>1</th>\n",
       "      <td>2</td>\n",
       "      <td>2024-05-23 23:56:00</td>\n",
       "      <td>2024-05-24 00:03:00</td>\n",
       "      <td>NaN</td>\n",
       "      <td>1.31</td>\n",
       "      <td>NaN</td>\n",
       "      <td>None</td>\n",
       "      <td>186</td>\n",
       "      <td>68</td>\n",
       "      <td>0</td>\n",
       "      <td>10.63</td>\n",
       "      <td>0.0</td>\n",
       "      <td>0.5</td>\n",
       "      <td>0.0</td>\n",
       "      <td>0.0</td>\n",
       "      <td>1.0</td>\n",
       "      <td>14.63</td>\n",
       "      <td>NaN</td>\n",
       "      <td>NaN</td>\n",
       "    </tr>\n",
       "    <tr>\n",
       "      <th>2</th>\n",
       "      <td>2</td>\n",
       "      <td>2024-05-23 23:47:34</td>\n",
       "      <td>2024-05-24 00:01:47</td>\n",
       "      <td>NaN</td>\n",
       "      <td>1.92</td>\n",
       "      <td>NaN</td>\n",
       "      <td>None</td>\n",
       "      <td>50</td>\n",
       "      <td>164</td>\n",
       "      <td>0</td>\n",
       "      <td>26.59</td>\n",
       "      <td>0.0</td>\n",
       "      <td>0.5</td>\n",
       "      <td>0.0</td>\n",
       "      <td>0.0</td>\n",
       "      <td>1.0</td>\n",
       "      <td>30.59</td>\n",
       "      <td>NaN</td>\n",
       "      <td>NaN</td>\n",
       "    </tr>\n",
       "    <tr>\n",
       "      <th>3</th>\n",
       "      <td>2</td>\n",
       "      <td>2024-05-23 23:48:57</td>\n",
       "      <td>2024-05-24 00:05:58</td>\n",
       "      <td>NaN</td>\n",
       "      <td>4.03</td>\n",
       "      <td>NaN</td>\n",
       "      <td>None</td>\n",
       "      <td>80</td>\n",
       "      <td>146</td>\n",
       "      <td>0</td>\n",
       "      <td>21.28</td>\n",
       "      <td>0.0</td>\n",
       "      <td>0.5</td>\n",
       "      <td>0.0</td>\n",
       "      <td>0.0</td>\n",
       "      <td>1.0</td>\n",
       "      <td>22.78</td>\n",
       "      <td>NaN</td>\n",
       "      <td>NaN</td>\n",
       "    </tr>\n",
       "    <tr>\n",
       "      <th>4</th>\n",
       "      <td>2</td>\n",
       "      <td>2024-05-23 23:57:20</td>\n",
       "      <td>2024-05-24 00:28:01</td>\n",
       "      <td>NaN</td>\n",
       "      <td>0.00</td>\n",
       "      <td>NaN</td>\n",
       "      <td>None</td>\n",
       "      <td>211</td>\n",
       "      <td>74</td>\n",
       "      <td>0</td>\n",
       "      <td>34.32</td>\n",
       "      <td>0.0</td>\n",
       "      <td>0.5</td>\n",
       "      <td>0.0</td>\n",
       "      <td>0.0</td>\n",
       "      <td>1.0</td>\n",
       "      <td>38.32</td>\n",
       "      <td>NaN</td>\n",
       "      <td>NaN</td>\n",
       "    </tr>\n",
       "  </tbody>\n",
       "</table>\n",
       "</div>"
      ],
      "text/plain": [
       "   VendorID tpep_pickup_datetime tpep_dropoff_datetime  passenger_count  \\\n",
       "0         2  2024-05-23 20:55:00   2024-05-24 11:20:00              NaN   \n",
       "1         2  2024-05-23 23:56:00   2024-05-24 00:03:00              NaN   \n",
       "2         2  2024-05-23 23:47:34   2024-05-24 00:01:47              NaN   \n",
       "3         2  2024-05-23 23:48:57   2024-05-24 00:05:58              NaN   \n",
       "4         2  2024-05-23 23:57:20   2024-05-24 00:28:01              NaN   \n",
       "\n",
       "   trip_distance  RatecodeID store_and_fwd_flag  PULocationID  DOLocationID  \\\n",
       "0          34.48         NaN               None            97           210   \n",
       "1           1.31         NaN               None           186            68   \n",
       "2           1.92         NaN               None            50           164   \n",
       "3           4.03         NaN               None            80           146   \n",
       "4           0.00         NaN               None           211            74   \n",
       "\n",
       "   payment_type  fare_amount  extra  mta_tax  tip_amount  tolls_amount  \\\n",
       "0             0        11.98    0.0      0.5         2.7           0.0   \n",
       "1             0        10.63    0.0      0.5         0.0           0.0   \n",
       "2             0        26.59    0.0      0.5         0.0           0.0   \n",
       "3             0        21.28    0.0      0.5         0.0           0.0   \n",
       "4             0        34.32    0.0      0.5         0.0           0.0   \n",
       "\n",
       "   improvement_surcharge  total_amount  congestion_surcharge  Airport_fee  \n",
       "0                    1.0         16.18                   NaN          NaN  \n",
       "1                    1.0         14.63                   NaN          NaN  \n",
       "2                    1.0         30.59                   NaN          NaN  \n",
       "3                    1.0         22.78                   NaN          NaN  \n",
       "4                    1.0         38.32                   NaN          NaN  "
      ]
     },
     "execution_count": 14,
     "metadata": {},
     "output_type": "execute_result"
    }
   ],
   "source": [
    "df_00115.limit(5).toPandas()"
   ]
  },
  {
   "cell_type": "code",
   "execution_count": 18,
   "id": "40c575b6-02d3-45dc-a96c-9aa580584cc3",
   "metadata": {},
   "outputs": [
    {
     "data": {
      "text/plain": [
       "11518"
      ]
     },
     "execution_count": 18,
     "metadata": {},
     "output_type": "execute_result"
    }
   ],
   "source": [
    "df_00115.count()"
   ]
  },
  {
   "cell_type": "code",
   "execution_count": 19,
   "id": "522169c1-b88f-4a5e-94cd-4ad3bdeb004d",
   "metadata": {},
   "outputs": [
    {
     "data": {
      "text/plain": [
       "98087"
      ]
     },
     "execution_count": 19,
     "metadata": {},
     "output_type": "execute_result"
    }
   ],
   "source": [
    "df_00114.count()"
   ]
  },
  {
   "cell_type": "code",
   "execution_count": 15,
   "id": "d096f4f3-66a0-413b-b3e7-a680d7941aa1",
   "metadata": {},
   "outputs": [
    {
     "name": "stdout",
     "output_type": "stream",
     "text": [
      "root\n",
      " |-- VendorID: long (nullable = true)\n",
      " |-- tpep_pickup_datetime: timestamp_ntz (nullable = true)\n",
      " |-- tpep_dropoff_datetime: timestamp_ntz (nullable = true)\n",
      " |-- passenger_count: double (nullable = true)\n",
      " |-- trip_distance: double (nullable = true)\n",
      " |-- RatecodeID: double (nullable = true)\n",
      " |-- store_and_fwd_flag: string (nullable = true)\n",
      " |-- PULocationID: long (nullable = true)\n",
      " |-- DOLocationID: long (nullable = true)\n",
      " |-- payment_type: long (nullable = true)\n",
      " |-- fare_amount: double (nullable = true)\n",
      " |-- extra: double (nullable = true)\n",
      " |-- mta_tax: double (nullable = true)\n",
      " |-- tip_amount: double (nullable = true)\n",
      " |-- tolls_amount: double (nullable = true)\n",
      " |-- improvement_surcharge: double (nullable = true)\n",
      " |-- total_amount: double (nullable = true)\n",
      " |-- congestion_surcharge: double (nullable = true)\n",
      " |-- Airport_fee: double (nullable = true)\n",
      "\n"
     ]
    }
   ],
   "source": [
    "df_00115.printSchema()"
   ]
  },
  {
   "cell_type": "code",
   "execution_count": 16,
   "id": "3ca1b244-bbac-4511-8fa6-e50c17dcc8ff",
   "metadata": {},
   "outputs": [],
   "source": [
    "df = df_00114.union(df_00115)"
   ]
  },
  {
   "cell_type": "code",
   "execution_count": 17,
   "id": "7c5366af-0204-4724-9f23-9f017cfee144",
   "metadata": {},
   "outputs": [
    {
     "data": {
      "text/plain": [
       "109605"
      ]
     },
     "execution_count": 17,
     "metadata": {},
     "output_type": "execute_result"
    }
   ],
   "source": [
    "df.count()"
   ]
  },
  {
   "cell_type": "code",
   "execution_count": null,
   "id": "dcb582c2-678b-4c89-8c44-7f41e764cd62",
   "metadata": {},
   "outputs": [],
   "source": [
    "# Github'dan lokale ilgili günün verisini indir\n",
    "# lokalden s3'e veriyi yükle ilgili dizine"
   ]
  },
  {
   "cell_type": "code",
   "execution_count": 27,
   "id": "1d12e33d-190a-4e72-8d64-164cc29d96a2",
   "metadata": {},
   "outputs": [],
   "source": [
    "import os\n",
    "import requests\n",
    "\n",
    "repo_owner = \"erkansirin78\"\n",
    "repo_name = \"datasets\"\n",
    "branch = \"master\"\n",
    "repo_sub_dir = \"yellow_tripdata_partitioned_by_day\"\n",
    "year = 2024\n",
    "month = 5\n",
    "day = 23\n",
    "\n",
    "# Format month and day as zero-padded\n",
    "month_str = str(month).zfill(2)\n",
    "day_str = str(day).zfill(2)\n",
    "\n",
    "def download_github_dir(url):\n",
    "    filename = url.split(\"/\")[-1]\n",
    "    output_path = os.path.join(f\"yellow_tripdata_{year}_{str(month).zfill(2)}_{str(day).zfill(2)}\", filename)\n",
    "    os.makedirs(os.path.dirname(output_path), exist_ok=True)\n",
    "\n",
    "    response = requests.get(url)\n",
    "    if response.status_code == 200:\n",
    "        with open(output_path, 'wb') as f:\n",
    "            f.write(response.content)\n",
    "        print(f\"Downloaded to {output_path}\")\n",
    "    else:\n",
    "        print(f\"Failed to download file: {response.status_code} from {url}\")\n",
    "\n",
    "def download_all_files_for_day(repo_owner, repo_name, branch, repo_sub_dir, year, month, day):\n",
    "    # Format strings\n",
    "    month_str = str(month).zfill(2)\n",
    "    day_str = str(day).zfill(2)\n",
    "\n",
    "    # GitHub API URL to list files\n",
    "    api_url = f\"https://api.github.com/repos/{repo_owner}/{repo_name}/contents/{repo_sub_dir}/year={year}/month={month}/day={day}?ref={branch}\"\n",
    "    response = requests.get(api_url)\n",
    "\n",
    "    if response.status_code == 200:\n",
    "        files = response.json()\n",
    "        for file in files:\n",
    "            if file[\"name\"].endswith(\".parquet\"):\n",
    "                download_url = file[\"download_url\"]\n",
    "                download_github_dir(download_url)\n",
    "    else:\n",
    "        print(f\"Failed to list files: {response.status_code} - {response.text}\")"
   ]
  },
  {
   "cell_type": "code",
   "execution_count": 28,
   "id": "6e66cbc2-4631-4f8b-956a-1c68ea4c18bb",
   "metadata": {},
   "outputs": [
    {
     "name": "stdout",
     "output_type": "stream",
     "text": [
      "Downloaded to yellow_tripdata_2024_05_23/part-00114-5bd1507a-125d-4ec6-8794-3ed02e45a45d.c000.snappy.parquet\n",
      "Downloaded to yellow_tripdata_2024_05_23/part-00115-5bd1507a-125d-4ec6-8794-3ed02e45a45d.c000.snappy.parquet\n"
     ]
    }
   ],
   "source": [
    "# Call the function\n",
    "download_all_files_for_day(repo_owner, repo_name, branch, repo_sub_dir, year, month, day)"
   ]
  },
  {
   "cell_type": "code",
   "execution_count": 32,
   "id": "00035e3e-cd98-4ebb-9302-d326c2e76272",
   "metadata": {},
   "outputs": [],
   "source": [
    "import os\n",
    "import boto3\n",
    "\n",
    "def upload_to_s3(local_dir, bucket, s3_prefix, s3_endpoint, aws_access_key, aws_secret_key):\n",
    "    \"\"\"\n",
    "    Uploads all files in `local_dir` to an S3 bucket using the given `s3_prefix` structure.\n",
    "\n",
    "    Parameters:\n",
    "    - local_dir (str): The base local directory to upload.\n",
    "    - bucket (str): The S3 bucket name.\n",
    "    - s3_prefix (str): Prefix path in the S3 bucket.\n",
    "    - s3_endpoint (str): The endpoint URL of the S3 service (e.g., http://localhost:30900).\n",
    "    - aws_access_key (str): AWS access key ID.\n",
    "    - aws_secret_key (str): AWS secret access key.\n",
    "    \"\"\"\n",
    "\n",
    "    s3 = boto3.client(\n",
    "        \"s3\",\n",
    "        endpoint_url=s3_endpoint,\n",
    "        aws_access_key_id=aws_access_key,\n",
    "        aws_secret_access_key=aws_secret_key,\n",
    "    )\n",
    "\n",
    "    for root, _, files in os.walk(local_dir):\n",
    "        for file in files:\n",
    "            local_path = os.path.join(root, file)\n",
    "            relative_path = os.path.relpath(local_path, local_dir)\n",
    "            s3_key = os.path.join(s3_prefix, relative_path).replace(\"\\\\\", \"/\")\n",
    "\n",
    "            print(f\"Uploading {local_path} to s3://{bucket}/{s3_key}\")\n",
    "            s3.upload_file(local_path, bucket, s3_key)\n",
    "            print(\"Upload complete.\")\n"
   ]
  },
  {
   "cell_type": "code",
   "execution_count": 34,
   "id": "4d86259b-cfc6-4281-b7d1-20df4ecb68e0",
   "metadata": {},
   "outputs": [],
   "source": [
    "upload_to_s3(\n",
    "    local_dir=\"yellow_tripdata_partitioned_by_day/year=2024/month=5/day=23\",\n",
    "    bucket=\"bronze\",\n",
    "    s3_prefix=\"yellow_tripdata_partitioned_by_day/year=2024/month=5/day=23\",\n",
    "    s3_endpoint=\"http://localhost:30900\",\n",
    "    aws_access_key=\"minioadmin\",\n",
    "    aws_secret_key=\"minioadmin123\"\n",
    ")"
   ]
  },
  {
   "cell_type": "code",
   "execution_count": null,
   "id": "3dfb9cb7-9706-41d7-93b9-7e5e8e48d803",
   "metadata": {},
   "outputs": [],
   "source": []
  }
 ],
 "metadata": {
  "kernelspec": {
   "display_name": "Python 3 (ipykernel)",
   "language": "python",
   "name": "python3"
  },
  "language_info": {
   "codemirror_mode": {
    "name": "ipython",
    "version": 3
   },
   "file_extension": ".py",
   "mimetype": "text/x-python",
   "name": "python",
   "nbconvert_exporter": "python",
   "pygments_lexer": "ipython3",
   "version": "3.12.7"
  }
 },
 "nbformat": 4,
 "nbformat_minor": 5
}
